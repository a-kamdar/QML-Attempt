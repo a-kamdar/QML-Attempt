{
  "nbformat": 4,
  "nbformat_minor": 0,
  "metadata": {
    "colab": {
      "name": "QC Project.ipynb",
      "provenance": [],
      "authorship_tag": "ABX9TyNfSdZW3bnh+upGZ+YyxchZ"
    },
    "kernelspec": {
      "name": "python3",
      "display_name": "Python 3"
    }
  },
  "cells": [
    {
      "cell_type": "code",
      "metadata": {
        "colab": {
          "base_uri": "https://localhost:8080/",
          "height": 351
        },
        "id": "7kflsPZFbmu1",
        "outputId": "f2ae7ded-0e15-46a9-bb58-eba770a3da3c"
      },
      "source": [
        "from scipy import stats\n",
        "import numpy as np\n",
        "import pandas as pd\n",
        "import matplotlib.pyplot as plt\n",
        "k1 = stats.skewnorm.rvs(0, 3, 1, size=1000)\n",
        "plt.hist(k1)"
      ],
      "execution_count": null,
      "outputs": [
        {
          "output_type": "execute_result",
          "data": {
            "text/plain": [
              "(array([  7.,  26.,  59., 129., 183., 220., 203., 102.,  49.,  22.]),\n",
              " array([-0.07460496,  0.50400404,  1.08261304,  1.66122204,  2.23983104,\n",
              "         2.81844004,  3.39704905,  3.97565805,  4.55426705,  5.13287605,\n",
              "         5.71148505]),\n",
              " <a list of 10 Patch objects>)"
            ]
          },
          "metadata": {
            "tags": []
          },
          "execution_count": 1
        },
        {
          "output_type": "display_data",
          "data": {
            "image/png": "[encoded data removed]",
            "text/plain": [
              "<Figure size 432x288 with 1 Axes>"
            ]
          },
          "metadata": {
            "tags": [],
            "needs_background": "light"
          }
        }
      ]
    },
    {
      "cell_type": "code",
      "metadata": {
        "colab": {
          "base_uri": "https://localhost:8080/",
          "height": 351
        },
        "id": "mcTy62UibpfK",
        "outputId": "3b942e3d-e688-4466-e2fd-d71cfc0c6b75"
      },
      "source": [
        "k2 = stats.skewnorm.rvs(0, 6, 1, size=1000)\n",
        "plt.hist(k2)"
      ],
      "execution_count": null,
      "outputs": [
        {
          "output_type": "execute_result",
          "data": {
            "text/plain": [
              "(array([  7.,  46.,  84., 145., 214., 219., 162.,  87.,  31.,   5.]),\n",
              " array([3.16892624, 3.73532047, 4.3017147 , 4.86810892, 5.43450315,\n",
              "        6.00089738, 6.56729161, 7.13368584, 7.70008007, 8.2664743 ,\n",
              "        8.83286853]),\n",
              " <a list of 10 Patch objects>)"
            ]
          },
          "metadata": {
            "tags": []
          },
          "execution_count": 2
        },
        {
          "output_type": "display_data",
          "data": {
            "image/png": "[encoded data removed]",
            "text/plain": [
              "<Figure size 432x288 with 1 Axes>"
            ]
          },
          "metadata": {
            "tags": [],
            "needs_background": "light"
          }
        }
      ]
    },
    {
      "cell_type": "code",
      "metadata": {
        "colab": {
          "base_uri": "https://localhost:8080/"
        },
        "id": "MLy8I8z5btP2",
        "outputId": "37fdc5a5-cf45-4ad9-ebb9-63088e368117"
      },
      "source": [
        "!pip3 install tensorflow==2.3.1"
      ],
      "execution_count": null,
      "outputs": [
        {
          "output_type": "stream",
          "text": [
            "Collecting tensorflow==2.3.1\n",
            "\u001b[?25l  Downloading https://files.pythonhosted.org/packages/ad/ad/769c195c72ac72040635c66cd9ba7b0f4b4fc1ac67e59b99fa6988446c22/tensorflow-2.3.1-cp36-cp36m-manylinux2010_x86_64.whl (320.4MB)\n",
            "\u001b[K     |████████████████████████████████| 320.4MB 47kB/s \n",
            "\u001b[?25hRequirement already satisfied: keras-preprocessing<1.2,>=1.1.1 in /usr/local/lib/python3.6/dist-packages (from tensorflow==2.3.1) (1.1.2)\n",
            "Requirement already satisfied: termcolor>=1.1.0 in /usr/local/lib/python3.6/dist-packages (from tensorflow==2.3.1) (1.1.0)\n",
            "Requirement already satisfied: grpcio>=1.8.6 in /usr/local/lib/python3.6/dist-packages (from tensorflow==2.3.1) (1.33.2)\n",
            "Requirement already satisfied: opt-einsum>=2.3.2 in /usr/local/lib/python3.6/dist-packages (from tensorflow==2.3.1) (3.3.0)\n",
            "Requirement already satisfied: h5py<2.11.0,>=2.10.0 in /usr/local/lib/python3.6/dist-packages (from tensorflow==2.3.1) (2.10.0)\n",
            "Requirement already satisfied: google-pasta>=0.1.8 in /usr/local/lib/python3.6/dist-packages (from tensorflow==2.3.1) (0.2.0)\n",
            "Requirement already satisfied: tensorboard<3,>=2.3.0 in /usr/local/lib/python3.6/dist-packages (from tensorflow==2.3.1) (2.3.0)\n",
            "Requirement already satisfied: protobuf>=3.9.2 in /usr/local/lib/python3.6/dist-packages (from tensorflow==2.3.1) (3.12.4)\n",
            "Requirement already satisfied: gast==0.3.3 in /usr/local/lib/python3.6/dist-packages (from tensorflow==2.3.1) (0.3.3)\n",
            "Requirement already satisfied: wrapt>=1.11.1 in /usr/local/lib/python3.6/dist-packages (from tensorflow==2.3.1) (1.12.1)\n",
            "Requirement already satisfied: numpy<1.19.0,>=1.16.0 in /usr/local/lib/python3.6/dist-packages (from tensorflow==2.3.1) (1.18.5)\n",
            "Requirement already satisfied: six>=1.12.0 in /usr/local/lib/python3.6/dist-packages (from tensorflow==2.3.1) (1.15.0)\n",
            "Requirement already satisfied: absl-py>=0.7.0 in /usr/local/lib/python3.6/dist-packages (from tensorflow==2.3.1) (0.10.0)\n",
            "Requirement already satisfied: tensorflow-estimator<2.4.0,>=2.3.0 in /usr/local/lib/python3.6/dist-packages (from tensorflow==2.3.1) (2.3.0)\n",
            "Requirement already satisfied: wheel>=0.26 in /usr/local/lib/python3.6/dist-packages (from tensorflow==2.3.1) (0.35.1)\n",
            "Requirement already satisfied: astunparse==1.6.3 in /usr/local/lib/python3.6/dist-packages (from tensorflow==2.3.1) (1.6.3)\n",
            "Requirement already satisfied: werkzeug>=0.11.15 in /usr/local/lib/python3.6/dist-packages (from tensorboard<3,>=2.3.0->tensorflow==2.3.1) (1.0.1)\n",
            "Requirement already satisfied: tensorboard-plugin-wit>=1.6.0 in /usr/local/lib/python3.6/dist-packages (from tensorboard<3,>=2.3.0->tensorflow==2.3.1) (1.7.0)\n",
            "Requirement already satisfied: google-auth-oauthlib<0.5,>=0.4.1 in /usr/local/lib/python3.6/dist-packages (from tensorboard<3,>=2.3.0->tensorflow==2.3.1) (0.4.2)\n",
            "Requirement already satisfied: markdown>=2.6.8 in /usr/local/lib/python3.6/dist-packages (from tensorboard<3,>=2.3.0->tensorflow==2.3.1) (3.3.3)\n",
            "Requirement already satisfied: google-auth<2,>=1.6.3 in /usr/local/lib/python3.6/dist-packages (from tensorboard<3,>=2.3.0->tensorflow==2.3.1) (1.17.2)\n",
            "Requirement already satisfied: requests<3,>=2.21.0 in /usr/local/lib/python3.6/dist-packages (from tensorboard<3,>=2.3.0->tensorflow==2.3.1) (2.23.0)\n",
            "Requirement already satisfied: setuptools>=41.0.0 in /usr/local/lib/python3.6/dist-packages (from tensorboard<3,>=2.3.0->tensorflow==2.3.1) (50.3.2)\n",
            "Requirement already satisfied: requests-oauthlib>=0.7.0 in /usr/local/lib/python3.6/dist-packages (from google-auth-oauthlib<0.5,>=0.4.1->tensorboard<3,>=2.3.0->tensorflow==2.3.1) (1.3.0)\n",
            "Requirement already satisfied: importlib-metadata; python_version < \"3.8\" in /usr/local/lib/python3.6/dist-packages (from markdown>=2.6.8->tensorboard<3,>=2.3.0->tensorflow==2.3.1) (2.0.0)\n",
            "Requirement already satisfied: cachetools<5.0,>=2.0.0 in /usr/local/lib/python3.6/dist-packages (from google-auth<2,>=1.6.3->tensorboard<3,>=2.3.0->tensorflow==2.3.1) (4.1.1)\n",
            "Requirement already satisfied: pyasn1-modules>=0.2.1 in /usr/local/lib/python3.6/dist-packages (from google-auth<2,>=1.6.3->tensorboard<3,>=2.3.0->tensorflow==2.3.1) (0.2.8)\n",
            "Requirement already satisfied: rsa<5,>=3.1.4; python_version >= \"3\" in /usr/local/lib/python3.6/dist-packages (from google-auth<2,>=1.6.3->tensorboard<3,>=2.3.0->tensorflow==2.3.1) (4.6)\n",
            "Requirement already satisfied: idna<3,>=2.5 in /usr/local/lib/python3.6/dist-packages (from requests<3,>=2.21.0->tensorboard<3,>=2.3.0->tensorflow==2.3.1) (2.10)\n",
            "Requirement already satisfied: certifi>=2017.4.17 in /usr/local/lib/python3.6/dist-packages (from requests<3,>=2.21.0->tensorboard<3,>=2.3.0->tensorflow==2.3.1) (2020.6.20)\n",
            "Requirement already satisfied: urllib3!=1.25.0,!=1.25.1,<1.26,>=1.21.1 in /usr/local/lib/python3.6/dist-packages (from requests<3,>=2.21.0->tensorboard<3,>=2.3.0->tensorflow==2.3.1) (1.24.3)\n",
            "Requirement already satisfied: chardet<4,>=3.0.2 in /usr/local/lib/python3.6/dist-packages (from requests<3,>=2.21.0->tensorboard<3,>=2.3.0->tensorflow==2.3.1) (3.0.4)\n",
            "Requirement already satisfied: oauthlib>=3.0.0 in /usr/local/lib/python3.6/dist-packages (from requests-oauthlib>=0.7.0->google-auth-oauthlib<0.5,>=0.4.1->tensorboard<3,>=2.3.0->tensorflow==2.3.1) (3.1.0)\n",
            "Requirement already satisfied: zipp>=0.5 in /usr/local/lib/python3.6/dist-packages (from importlib-metadata; python_version < \"3.8\"->markdown>=2.6.8->tensorboard<3,>=2.3.0->tensorflow==2.3.1) (3.4.0)\n",
            "Requirement already satisfied: pyasn1<0.5.0,>=0.4.6 in /usr/local/lib/python3.6/dist-packages (from pyasn1-modules>=0.2.1->google-auth<2,>=1.6.3->tensorboard<3,>=2.3.0->tensorflow==2.3.1) (0.4.8)\n",
            "Installing collected packages: tensorflow\n",
            "  Found existing installation: tensorflow 2.3.0\n",
            "    Uninstalling tensorflow-2.3.0:\n",
            "      Successfully uninstalled tensorflow-2.3.0\n",
            "Successfully installed tensorflow-2.3.1\n"
          ],
          "name": "stdout"
        }
      ]
    },
    {
      "cell_type": "code",
      "metadata": {
        "colab": {
          "base_uri": "https://localhost:8080/"
        },
        "id": "keO1FXVIb7-k",
        "outputId": "69e84341-7450-4832-ce4f-b3521995498a"
      },
      "source": [
        "!pip3 install tensorflow-quantum"
      ],
      "execution_count": null,
      "outputs": [
        {
          "output_type": "stream",
          "text": [
            "Collecting tensorflow-quantum\n",
            "\u001b[?25l  Downloading https://files.pythonhosted.org/packages/e8/b8/d00b703c026de2c52e9476a787b2244a0998fef337f7ca688d166162fa52/tensorflow_quantum-0.4.0-cp36-cp36m-manylinux2010_x86_64.whl (5.9MB)\n",
            "\u001b[K     |████████████████████████████████| 5.9MB 4.6MB/s \n",
            "\u001b[?25hCollecting sympy==1.5\n",
            "\u001b[?25l  Downloading https://files.pythonhosted.org/packages/4d/a7/25d5d6b3295537ab90bdbcd21e464633fb4a0684dd9a065da404487625bb/sympy-1.5-py2.py3-none-any.whl (5.6MB)\n",
            "\u001b[K     |████████████████████████████████| 5.6MB 33.2MB/s \n",
            "\u001b[?25hCollecting cirq==0.9.1\n",
            "\u001b[?25l  Downloading https://files.pythonhosted.org/packages/18/05/39c24828744b91f658fd1e5d105a9d168da43698cfaec006179c7646c71c/cirq-0.9.1-py3-none-any.whl (1.6MB)\n",
            "\u001b[K     |████████████████████████████████| 1.6MB 43.3MB/s \n",
            "\u001b[?25hRequirement already satisfied: mpmath>=0.19 in /usr/local/lib/python3.6/dist-packages (from sympy==1.5->tensorflow-quantum) (1.1.0)\n",
            "Requirement already satisfied: protobuf~=3.12.0 in /usr/local/lib/python3.6/dist-packages (from cirq==0.9.1->tensorflow-quantum) (3.12.4)\n",
            "Requirement already satisfied: scipy in /usr/local/lib/python3.6/dist-packages (from cirq==0.9.1->tensorflow-quantum) (1.4.1)\n",
            "Requirement already satisfied: pandas in /usr/local/lib/python3.6/dist-packages (from cirq==0.9.1->tensorflow-quantum) (1.1.4)\n",
            "Requirement already satisfied: requests~=2.18 in /usr/local/lib/python3.6/dist-packages (from cirq==0.9.1->tensorflow-quantum) (2.23.0)\n",
            "Requirement already satisfied: typing-extensions in /usr/local/lib/python3.6/dist-packages (from cirq==0.9.1->tensorflow-quantum) (3.7.4.3)\n",
            "Requirement already satisfied: google-api-core[grpc]<2.0.0dev,>=1.14.0 in /usr/local/lib/python3.6/dist-packages (from cirq==0.9.1->tensorflow-quantum) (1.16.0)\n",
            "Requirement already satisfied: numpy~=1.16 in /usr/local/lib/python3.6/dist-packages (from cirq==0.9.1->tensorflow-quantum) (1.18.5)\n",
            "Requirement already satisfied: matplotlib~=3.0 in /usr/local/lib/python3.6/dist-packages (from cirq==0.9.1->tensorflow-quantum) (3.2.2)\n",
            "Requirement already satisfied: networkx~=2.4 in /usr/local/lib/python3.6/dist-packages (from cirq==0.9.1->tensorflow-quantum) (2.5)\n",
            "Requirement already satisfied: dataclasses; python_version < \"3.7\" in /usr/local/lib/python3.6/dist-packages (from cirq==0.9.1->tensorflow-quantum) (0.7)\n",
            "Requirement already satisfied: sortedcontainers~=2.0 in /usr/local/lib/python3.6/dist-packages (from cirq==0.9.1->tensorflow-quantum) (2.2.2)\n",
            "Collecting freezegun~=0.3.15\n",
            "  Downloading https://files.pythonhosted.org/packages/17/5d/1b9d6d3c7995fff473f35861d674e0113a5f0bd5a72fe0199c3f254665c7/freezegun-0.3.15-py2.py3-none-any.whl\n",
            "Requirement already satisfied: setuptools in /usr/local/lib/python3.6/dist-packages (from protobuf~=3.12.0->cirq==0.9.1->tensorflow-quantum) (50.3.2)\n",
            "Requirement already satisfied: six>=1.9 in /usr/local/lib/python3.6/dist-packages (from protobuf~=3.12.0->cirq==0.9.1->tensorflow-quantum) (1.15.0)\n",
            "Requirement already satisfied: python-dateutil>=2.7.3 in /usr/local/lib/python3.6/dist-packages (from pandas->cirq==0.9.1->tensorflow-quantum) (2.8.1)\n",
            "Requirement already satisfied: pytz>=2017.2 in /usr/local/lib/python3.6/dist-packages (from pandas->cirq==0.9.1->tensorflow-quantum) (2018.9)\n",
            "Requirement already satisfied: chardet<4,>=3.0.2 in /usr/local/lib/python3.6/dist-packages (from requests~=2.18->cirq==0.9.1->tensorflow-quantum) (3.0.4)\n",
            "Requirement already satisfied: idna<3,>=2.5 in /usr/local/lib/python3.6/dist-packages (from requests~=2.18->cirq==0.9.1->tensorflow-quantum) (2.10)\n",
            "Requirement already satisfied: urllib3!=1.25.0,!=1.25.1,<1.26,>=1.21.1 in /usr/local/lib/python3.6/dist-packages (from requests~=2.18->cirq==0.9.1->tensorflow-quantum) (1.24.3)\n",
            "Requirement already satisfied: certifi>=2017.4.17 in /usr/local/lib/python3.6/dist-packages (from requests~=2.18->cirq==0.9.1->tensorflow-quantum) (2020.6.20)\n",
            "Requirement already satisfied: google-auth<2.0dev,>=0.4.0 in /usr/local/lib/python3.6/dist-packages (from google-api-core[grpc]<2.0.0dev,>=1.14.0->cirq==0.9.1->tensorflow-quantum) (1.17.2)\n",
            "Requirement already satisfied: googleapis-common-protos<2.0dev,>=1.6.0 in /usr/local/lib/python3.6/dist-packages (from google-api-core[grpc]<2.0.0dev,>=1.14.0->cirq==0.9.1->tensorflow-quantum) (1.52.0)\n",
            "Requirement already satisfied: grpcio<2.0dev,>=1.8.2; extra == \"grpc\" in /usr/local/lib/python3.6/dist-packages (from google-api-core[grpc]<2.0.0dev,>=1.14.0->cirq==0.9.1->tensorflow-quantum) (1.33.2)\n",
            "Requirement already satisfied: cycler>=0.10 in /usr/local/lib/python3.6/dist-packages (from matplotlib~=3.0->cirq==0.9.1->tensorflow-quantum) (0.10.0)\n",
            "Requirement already satisfied: pyparsing!=2.0.4,!=2.1.2,!=2.1.6,>=2.0.1 in /usr/local/lib/python3.6/dist-packages (from matplotlib~=3.0->cirq==0.9.1->tensorflow-quantum) (2.4.7)\n",
            "Requirement already satisfied: kiwisolver>=1.0.1 in /usr/local/lib/python3.6/dist-packages (from matplotlib~=3.0->cirq==0.9.1->tensorflow-quantum) (1.3.1)\n",
            "Requirement already satisfied: decorator>=4.3.0 in /usr/local/lib/python3.6/dist-packages (from networkx~=2.4->cirq==0.9.1->tensorflow-quantum) (4.4.2)\n",
            "Requirement already satisfied: cachetools<5.0,>=2.0.0 in /usr/local/lib/python3.6/dist-packages (from google-auth<2.0dev,>=0.4.0->google-api-core[grpc]<2.0.0dev,>=1.14.0->cirq==0.9.1->tensorflow-quantum) (4.1.1)\n",
            "Requirement already satisfied: rsa<5,>=3.1.4; python_version >= \"3\" in /usr/local/lib/python3.6/dist-packages (from google-auth<2.0dev,>=0.4.0->google-api-core[grpc]<2.0.0dev,>=1.14.0->cirq==0.9.1->tensorflow-quantum) (4.6)\n",
            "Requirement already satisfied: pyasn1-modules>=0.2.1 in /usr/local/lib/python3.6/dist-packages (from google-auth<2.0dev,>=0.4.0->google-api-core[grpc]<2.0.0dev,>=1.14.0->cirq==0.9.1->tensorflow-quantum) (0.2.8)\n",
            "Requirement already satisfied: pyasn1>=0.1.3 in /usr/local/lib/python3.6/dist-packages (from rsa<5,>=3.1.4; python_version >= \"3\"->google-auth<2.0dev,>=0.4.0->google-api-core[grpc]<2.0.0dev,>=1.14.0->cirq==0.9.1->tensorflow-quantum) (0.4.8)\n",
            "Installing collected packages: sympy, freezegun, cirq, tensorflow-quantum\n",
            "  Found existing installation: sympy 1.1.1\n",
            "    Uninstalling sympy-1.1.1:\n",
            "      Successfully uninstalled sympy-1.1.1\n",
            "Successfully installed cirq-0.9.1 freezegun-0.3.15 sympy-1.5 tensorflow-quantum-0.4.0\n"
          ],
          "name": "stdout"
        }
      ]
    },
    {
      "cell_type": "code",
      "metadata": {
        "id": "GcMMTblpcPKA"
      },
      "source": [
        "import tensorflow as tf\n",
        "import tensorflow_quantum as tfq\n",
        "\n",
        "import cirq\n",
        "import sympy\n",
        "import numpy as np\n",
        "import seaborn as sns\n",
        "import collections\n",
        "\n",
        "# visualization tools\n",
        "%matplotlib inline\n",
        "import matplotlib.pyplot as plt\n",
        "from cirq.contrib.svg import SVGCircuit"
      ],
      "execution_count": null,
      "outputs": []
    },
    {
      "cell_type": "code",
      "metadata": {
        "id": "UERuJ7a8cyW-"
      },
      "source": [
        "x_train= np.asarray(list(k1[:200])+ list(k2[:200]))\n",
        "y_train= np.asarray(list(0 for _ in range(200))+ list(1 for _ in range(200)))\n",
        "x_test= np.asarray(list(k1[200:])+ list(k2[200:]))\n",
        "y_test= np.asarray(list(0 for _ in range(800))+ list(1 for _ in range(800)))\n"
      ],
      "execution_count": null,
      "outputs": []
    },
    {
      "cell_type": "code",
      "metadata": {
        "id": "GzHxws-Mc1-N"
      },
      "source": [
        "x_train = np.array([[x] for x in x_train])\n",
        "y_train = np.array([[np.float64(x)] for x in y_train])\n",
        "x_test = np.array([[x] for x in x_test])\n",
        "y_test = np.array([[np.float64(x)] for x in y_test])"
      ],
      "execution_count": null,
      "outputs": []
    },
    {
      "cell_type": "code",
      "metadata": {
        "id": "y_cSrgxSc4NT"
      },
      "source": [
        "def convert_to_circuit(image):\n",
        "    \"\"\"Encode truncated classical image into quantum datapoint.\"\"\"\n",
        "    values = np.ndarray.flatten(image)\n",
        "    qubits = cirq.GridQubit.rect(4, 4)\n",
        "    circuit = cirq.Circuit()\n",
        "    for i, value in enumerate(values):\n",
        "        if value:\n",
        "            circuit.append(cirq.X(qubits[i]))\n",
        "    return circuit\n",
        "\n",
        "\n",
        "x_train_circ = [convert_to_circuit(x) for x in x_train]\n",
        "x_test_circ = [convert_to_circuit(x) for x in x_test]"
      ],
      "execution_count": null,
      "outputs": []
    },
    {
      "cell_type": "code",
      "metadata": {
        "colab": {
          "base_uri": "https://localhost:8080/",
          "height": 71
        },
        "id": "1QsoomoCc6mM",
        "outputId": "a2ebada8-408e-4558-bbf8-f20f68d5167a"
      },
      "source": [
        "SVGCircuit(x_train_circ[0])"
      ],
      "execution_count": null,
      "outputs": [
        {
          "output_type": "execute_result",
          "data": {
            "text/plain": [
              "<cirq.contrib.svg.svg.SVGCircuit at 0x7f42a3535f60>"
            ],
            "image/svg+xml": "<svg xmlns=\"http://www.w3.org/2000/svg\" width=\"169.517734375\" height=\"50.0\"><line x1=\"34.7588671875\" x2=\"139.517734375\" y1=\"25.0\" y2=\"25.0\" stroke=\"#1967d2\" stroke-width=\"1\" /><rect x=\"10.0\" y=\"5.0\" width=\"49.517734375\" height=\"40\" stroke=\"black\" fill=\"white\" stroke-width=\"0\" /><text x=\"34.7588671875\" y=\"25.0\" dominant-baseline=\"middle\" text-anchor=\"middle\" font-size=\"14px\" font-family=\"Arial\">(0, 0): </text><rect x=\"79.517734375\" y=\"5.0\" width=\"40\" height=\"40\" stroke=\"black\" fill=\"white\" stroke-width=\"1\" /><text x=\"99.517734375\" y=\"25.0\" dominant-baseline=\"middle\" text-anchor=\"middle\" font-size=\"18px\" font-family=\"Arial\">X</text></svg>"
          },
          "metadata": {
            "tags": []
          },
          "execution_count": 47
        }
      ]
    },
    {
      "cell_type": "code",
      "metadata": {
        "id": "ptQMAoVDc8sj"
      },
      "source": [
        "x_train_tfcirc = tfq.convert_to_tensor(x_train_circ)\n",
        "x_test_tfcirc = tfq.convert_to_tensor(x_test_circ)"
      ],
      "execution_count": null,
      "outputs": []
    },
    {
      "cell_type": "code",
      "metadata": {
        "id": "CyqL0O1ddjDN"
      },
      "source": [
        "class CircuitLayerBuilder():\n",
        "    def __init__(self, data_qubits, readout):\n",
        "        self.data_qubits = data_qubits\n",
        "        self.readout = readout\n",
        "    \n",
        "    def add_layer(self, circuit, gate, prefix):\n",
        "        for i, qubit in enumerate(self.data_qubits):\n",
        "            symbol = sympy.Symbol(prefix + '-' + str(i))\n",
        "            circuit.append(gate(qubit, self.readout)**symbol)"
      ],
      "execution_count": null,
      "outputs": []
    },
    {
      "cell_type": "code",
      "metadata": {
        "id": "trZLSs_HdluJ"
      },
      "source": [
        "def create_quantum_model():\n",
        "    \"\"\"Create a QNN model circuit and readout operation to go along with it.\"\"\"\n",
        "    data_qubits = cirq.GridQubit.rect(4, 4)  # a 4x4 grid.\n",
        "    readout = cirq.GridQubit(-1, -1)         # a single qubit at [-1,-1]\n",
        "    circuit = cirq.Circuit()\n",
        "    \n",
        "    # Prepare the readout qubit.\n",
        "    circuit.append(cirq.X(readout))\n",
        "    circuit.append(cirq.H(readout))\n",
        "    \n",
        "    builder = CircuitLayerBuilder(\n",
        "        data_qubits = data_qubits,\n",
        "        readout=readout)\n",
        "\n",
        "    # Then add layers (experiment by adding more).\n",
        "    builder.add_layer(circuit, cirq.XX, \"xx1\")\n",
        "    builder.add_layer(circuit, cirq.ZZ, \"zz1\")\n",
        "\n",
        "    # Finally, prepare the readout qubit.\n",
        "    circuit.append(cirq.H(readout))\n",
        "\n",
        "    return circuit, cirq.Z(readout)"
      ],
      "execution_count": null,
      "outputs": []
    },
    {
      "cell_type": "code",
      "metadata": {
        "id": "-HqAV6Dkdpa_"
      },
      "source": [
        "model_circuit, model_readout = create_quantum_model()"
      ],
      "execution_count": null,
      "outputs": []
    },
    {
      "cell_type": "code",
      "metadata": {
        "id": "fWp8WV05dt9q"
      },
      "source": [
        "# Build the Keras model.\n",
        "model = tf.keras.Sequential([\n",
        "    # The input is the data-circuit, encoded as a tf.string\n",
        "    tf.keras.layers.Input(shape=(), dtype=tf.string),\n",
        "    # The PQC layer returns the expected value of the readout gate, range [-1,1].\n",
        "    tfq.layers.PQC(model_circuit, model_readout),\n",
        "])"
      ],
      "execution_count": null,
      "outputs": []
    },
    {
      "cell_type": "code",
      "metadata": {
        "id": "47NzAai5dweH"
      },
      "source": [
        "y_train_hinge = 2.0*y_train-1.0\n",
        "y_test_hinge = 2.0*y_test-1.0"
      ],
      "execution_count": null,
      "outputs": []
    },
    {
      "cell_type": "code",
      "metadata": {
        "id": "56wq11Wbd2mN"
      },
      "source": [
        "def hinge_accuracy(y_true, y_pred):\n",
        "    y_true = tf.squeeze(y_true) > 0.0\n",
        "    y_pred = tf.squeeze(y_pred) > 0.0\n",
        "    result = tf.cast(y_true == y_pred, tf.float32)\n",
        "\n",
        "    return tf.reduce_mean(result)\n"
      ],
      "execution_count": null,
      "outputs": []
    },
    {
      "cell_type": "code",
      "metadata": {
        "id": "7g0ckUKkd6Kc"
      },
      "source": [
        "model.compile(\n",
        "    loss=tf.keras.losses.Hinge(),\n",
        "    optimizer=tf.keras.optimizers.Adam(),\n",
        "    metrics=[])"
      ],
      "execution_count": null,
      "outputs": []
    },
    {
      "cell_type": "code",
      "metadata": {
        "colab": {
          "base_uri": "https://localhost:8080/"
        },
        "id": "OWpWxVCxd8Z4",
        "outputId": "dd53a26e-d791-487a-8d4f-351d1bc4d28a"
      },
      "source": [
        "print(model.summary())"
      ],
      "execution_count": null,
      "outputs": [
        {
          "output_type": "stream",
          "text": [
            "Model: \"sequential_2\"\n",
            "_________________________________________________________________\n",
            "Layer (type)                 Output Shape              Param #   \n",
            "=================================================================\n",
            "pqc_1 (PQC)                  (None, 1)                 2         \n",
            "=================================================================\n",
            "Total params: 2\n",
            "Trainable params: 2\n",
            "Non-trainable params: 0\n",
            "_________________________________________________________________\n",
            "None\n"
          ],
          "name": "stdout"
        }
      ]
    },
    {
      "cell_type": "code",
      "metadata": {
        "id": "gN2-G6bAeHSe"
      },
      "source": [
        "EPOCHS = 10\n",
        "BATCH_SIZE = 1\n",
        "\n",
        "NUM_EXAMPLES = len(x_train_tfcirc)"
      ],
      "execution_count": null,
      "outputs": []
    },
    {
      "cell_type": "code",
      "metadata": {
        "id": "BwuqZB7rfK70"
      },
      "source": [
        "x_train_tfcirc_sub = x_train_tfcirc[:NUM_EXAMPLES]\n",
        "y_train_hinge_sub = y_train_hinge[:NUM_EXAMPLES]"
      ],
      "execution_count": null,
      "outputs": []
    },
    {
      "cell_type": "code",
      "metadata": {
        "colab": {
          "base_uri": "https://localhost:8080/"
        },
        "id": "vE8oyBPlfNPJ",
        "outputId": "f9403073-fd45-4ba4-e6cd-786d1e9f236c"
      },
      "source": [
        "qnn_history = model.fit(\n",
        "      x_train_tfcirc_sub, y_train_hinge_sub,\n",
        "      batch_size=1,\n",
        "      epochs=EPOCHS,\n",
        "      shuffle=True,\n",
        "      verbose=1,\n",
        "      validation_data=(x_test_tfcirc, y_test_hinge))\n",
        "\n",
        "qnn_results = model.evaluate(x_test_tfcirc, y_test)"
      ],
      "execution_count": null,
      "outputs": [
        {
          "output_type": "stream",
          "text": [
            "Epoch 1/10\n",
            "400/400 [==============================] - 2s 5ms/step - loss: 1.0019 - val_loss: 1.0000\n",
            "Epoch 2/10\n",
            "400/400 [==============================] - 2s 5ms/step - loss: 1.0014 - val_loss: 1.0000\n",
            "Epoch 3/10\n",
            "400/400 [==============================] - 2s 5ms/step - loss: 1.0014 - val_loss: 1.0000\n",
            "Epoch 4/10\n",
            "400/400 [==============================] - 2s 5ms/step - loss: 1.0011 - val_loss: 1.0000\n",
            "Epoch 5/10\n",
            "400/400 [==============================] - 2s 4ms/step - loss: 1.0015 - val_loss: 1.0000\n",
            "Epoch 6/10\n",
            "400/400 [==============================] - 2s 4ms/step - loss: 1.0023 - val_loss: 1.0000\n",
            "Epoch 7/10\n",
            "400/400 [==============================] - 2s 5ms/step - loss: 1.0012 - val_loss: 1.0000\n",
            "Epoch 8/10\n",
            "400/400 [==============================] - 2s 5ms/step - loss: 1.0011 - val_loss: 1.0000\n",
            "Epoch 9/10\n",
            "400/400 [==============================] - 2s 4ms/step - loss: 1.0018 - val_loss: 1.0000\n",
            "Epoch 10/10\n",
            "400/400 [==============================] - 2s 5ms/step - loss: 1.0016 - val_loss: 1.0000\n",
            "50/50 [==============================] - 0s 5ms/step - loss: 1.0000\n"
          ],
          "name": "stdout"
        }
      ]
    },
    {
      "cell_type": "code",
      "metadata": {
        "colab": {
          "base_uri": "https://localhost:8080/"
        },
        "id": "F3YY9VqNfRYG",
        "outputId": "9c9f5b9b-da28-4db2-90a8-b6cb5f104992"
      },
      "source": [
        "model = tf.keras.Sequential([tf.keras.layers.Flatten(input_shape=(1, )),\n",
        "                                tf.keras.layers.Dense(32, activation='relu'), \n",
        "                                tf.keras.layers.Dense(2, activation='softmax')])\n",
        "model.compile(optimizer=tf.keras.optimizers.Adam(lr=0.0001),  \n",
        "                loss= 'sparse_categorical_crossentropy',\n",
        "                metrics=['accuracy']  )\n",
        "model.fit(x_train,\n",
        "                      y_train,\n",
        "                      shuffle=True,\n",
        "                      epochs=100,\n",
        "                      verbose=1,\n",
        "                      batch_size=1,\n",
        "                      #callbacks=callbacks_list,\n",
        "                      #validation_split=0.3\n",
        "                      )"
      ],
      "execution_count": null,
      "outputs": [
        {
          "output_type": "stream",
          "text": [
            "Epoch 1/100\n",
            "400/400 [==============================] - 1s 1ms/step - loss: 0.9470 - accuracy: 0.5000\n",
            "Epoch 2/100\n",
            "400/400 [==============================] - 1s 1ms/step - loss: 0.7394 - accuracy: 0.3675\n",
            "Epoch 3/100\n",
            "400/400 [==============================] - 1s 1ms/step - loss: 0.6786 - accuracy: 0.5000\n",
            "Epoch 4/100\n",
            "400/400 [==============================] - 1s 1ms/step - loss: 0.6608 - accuracy: 0.5000\n",
            "Epoch 5/100\n",
            "400/400 [==============================] - 1s 1ms/step - loss: 0.6526 - accuracy: 0.5000\n",
            "Epoch 6/100\n",
            "400/400 [==============================] - 1s 1ms/step - loss: 0.6447 - accuracy: 0.5000\n",
            "Epoch 7/100\n",
            "400/400 [==============================] - 1s 1ms/step - loss: 0.6371 - accuracy: 0.5000\n",
            "Epoch 8/100\n",
            "400/400 [==============================] - 1s 1ms/step - loss: 0.6294 - accuracy: 0.5050\n",
            "Epoch 9/100\n",
            "400/400 [==============================] - 1s 1ms/step - loss: 0.6221 - accuracy: 0.5175\n",
            "Epoch 10/100\n",
            "400/400 [==============================] - 0s 1ms/step - loss: 0.6142 - accuracy: 0.5400\n",
            "Epoch 11/100\n",
            "400/400 [==============================] - 0s 1ms/step - loss: 0.6071 - accuracy: 0.5675\n",
            "Epoch 12/100\n",
            "400/400 [==============================] - 0s 885us/step - loss: 0.5994 - accuracy: 0.5675\n",
            "Epoch 13/100\n",
            "400/400 [==============================] - 0s 904us/step - loss: 0.5919 - accuracy: 0.5850\n",
            "Epoch 14/100\n",
            "400/400 [==============================] - 0s 849us/step - loss: 0.5840 - accuracy: 0.6175\n",
            "Epoch 15/100\n",
            "400/400 [==============================] - 0s 905us/step - loss: 0.5766 - accuracy: 0.6175\n",
            "Epoch 16/100\n",
            "400/400 [==============================] - 0s 834us/step - loss: 0.5693 - accuracy: 0.6625\n",
            "Epoch 17/100\n",
            "400/400 [==============================] - 0s 868us/step - loss: 0.5617 - accuracy: 0.6800\n",
            "Epoch 18/100\n",
            "400/400 [==============================] - 0s 851us/step - loss: 0.5543 - accuracy: 0.6900\n",
            "Epoch 19/100\n",
            "400/400 [==============================] - 0s 928us/step - loss: 0.5460 - accuracy: 0.7300\n",
            "Epoch 20/100\n",
            "400/400 [==============================] - 1s 1ms/step - loss: 0.5393 - accuracy: 0.7350\n",
            "Epoch 21/100\n",
            "400/400 [==============================] - 1s 2ms/step - loss: 0.5314 - accuracy: 0.7325\n",
            "Epoch 22/100\n",
            "400/400 [==============================] - 1s 2ms/step - loss: 0.5238 - accuracy: 0.7675\n",
            "Epoch 23/100\n",
            "400/400 [==============================] - 1s 2ms/step - loss: 0.5159 - accuracy: 0.7850\n",
            "Epoch 24/100\n",
            "400/400 [==============================] - 1s 2ms/step - loss: 0.5080 - accuracy: 0.8075\n",
            "Epoch 25/100\n",
            "400/400 [==============================] - 1s 1ms/step - loss: 0.5010 - accuracy: 0.8125\n",
            "Epoch 26/100\n",
            "400/400 [==============================] - 0s 949us/step - loss: 0.4928 - accuracy: 0.8250\n",
            "Epoch 27/100\n",
            "400/400 [==============================] - 0s 951us/step - loss: 0.4852 - accuracy: 0.8275\n",
            "Epoch 28/100\n",
            "400/400 [==============================] - 0s 1ms/step - loss: 0.4776 - accuracy: 0.8325\n",
            "Epoch 29/100\n",
            "400/400 [==============================] - 0s 1ms/step - loss: 0.4699 - accuracy: 0.8525\n",
            "Epoch 30/100\n",
            "400/400 [==============================] - 0s 1ms/step - loss: 0.4625 - accuracy: 0.8625\n",
            "Epoch 31/100\n",
            "400/400 [==============================] - 0s 1ms/step - loss: 0.4553 - accuracy: 0.8675\n",
            "Epoch 32/100\n",
            "400/400 [==============================] - 0s 1ms/step - loss: 0.4477 - accuracy: 0.8775\n",
            "Epoch 33/100\n",
            "400/400 [==============================] - 1s 1ms/step - loss: 0.4406 - accuracy: 0.8750\n",
            "Epoch 34/100\n",
            "400/400 [==============================] - 0s 1ms/step - loss: 0.4334 - accuracy: 0.8850\n",
            "Epoch 35/100\n",
            "400/400 [==============================] - 1s 1ms/step - loss: 0.4261 - accuracy: 0.8800\n",
            "Epoch 36/100\n",
            "400/400 [==============================] - 0s 1ms/step - loss: 0.4193 - accuracy: 0.8850\n",
            "Epoch 37/100\n",
            "400/400 [==============================] - 0s 1ms/step - loss: 0.4129 - accuracy: 0.8900\n",
            "Epoch 38/100\n",
            "400/400 [==============================] - 0s 1ms/step - loss: 0.4059 - accuracy: 0.8975\n",
            "Epoch 39/100\n",
            "400/400 [==============================] - 1s 1ms/step - loss: 0.3992 - accuracy: 0.8925\n",
            "Epoch 40/100\n",
            "400/400 [==============================] - 0s 1ms/step - loss: 0.3929 - accuracy: 0.8950\n",
            "Epoch 41/100\n",
            "400/400 [==============================] - 0s 1ms/step - loss: 0.3862 - accuracy: 0.8950\n",
            "Epoch 42/100\n",
            "400/400 [==============================] - 0s 1ms/step - loss: 0.3802 - accuracy: 0.9000\n",
            "Epoch 43/100\n",
            "400/400 [==============================] - 0s 1ms/step - loss: 0.3742 - accuracy: 0.9050\n",
            "Epoch 44/100\n",
            "400/400 [==============================] - 0s 1ms/step - loss: 0.3681 - accuracy: 0.8975\n",
            "Epoch 45/100\n",
            "400/400 [==============================] - 0s 1ms/step - loss: 0.3624 - accuracy: 0.9025\n",
            "Epoch 46/100\n",
            "400/400 [==============================] - 0s 1ms/step - loss: 0.3565 - accuracy: 0.9050\n",
            "Epoch 47/100\n",
            "400/400 [==============================] - 0s 1ms/step - loss: 0.3521 - accuracy: 0.8975\n",
            "Epoch 48/100\n",
            "400/400 [==============================] - 0s 1ms/step - loss: 0.3469 - accuracy: 0.9075\n",
            "Epoch 49/100\n",
            "400/400 [==============================] - 0s 1ms/step - loss: 0.3414 - accuracy: 0.9075\n",
            "Epoch 50/100\n",
            "400/400 [==============================] - 0s 989us/step - loss: 0.3362 - accuracy: 0.9050\n",
            "Epoch 51/100\n",
            "400/400 [==============================] - 0s 871us/step - loss: 0.3312 - accuracy: 0.9100\n",
            "Epoch 52/100\n",
            "400/400 [==============================] - 0s 870us/step - loss: 0.3269 - accuracy: 0.9150\n",
            "Epoch 53/100\n",
            "400/400 [==============================] - 0s 915us/step - loss: 0.3224 - accuracy: 0.9125\n",
            "Epoch 54/100\n",
            "400/400 [==============================] - 0s 896us/step - loss: 0.3179 - accuracy: 0.9100\n",
            "Epoch 55/100\n",
            "400/400 [==============================] - 0s 865us/step - loss: 0.3133 - accuracy: 0.9075\n",
            "Epoch 56/100\n",
            "400/400 [==============================] - 0s 839us/step - loss: 0.3095 - accuracy: 0.9075\n",
            "Epoch 57/100\n",
            "400/400 [==============================] - 0s 833us/step - loss: 0.3052 - accuracy: 0.9150\n",
            "Epoch 58/100\n",
            "400/400 [==============================] - 0s 863us/step - loss: 0.3020 - accuracy: 0.9100\n",
            "Epoch 59/100\n",
            "400/400 [==============================] - 0s 914us/step - loss: 0.2976 - accuracy: 0.9125\n",
            "Epoch 60/100\n",
            "400/400 [==============================] - 0s 849us/step - loss: 0.2950 - accuracy: 0.9100\n",
            "Epoch 61/100\n",
            "400/400 [==============================] - 0s 850us/step - loss: 0.2910 - accuracy: 0.9075\n",
            "Epoch 62/100\n",
            "400/400 [==============================] - 0s 917us/step - loss: 0.2880 - accuracy: 0.9100\n",
            "Epoch 63/100\n",
            "400/400 [==============================] - 0s 905us/step - loss: 0.2845 - accuracy: 0.9100\n",
            "Epoch 64/100\n",
            "400/400 [==============================] - 0s 904us/step - loss: 0.2813 - accuracy: 0.9150\n",
            "Epoch 65/100\n",
            "400/400 [==============================] - 0s 982us/step - loss: 0.2786 - accuracy: 0.9075\n",
            "Epoch 66/100\n",
            "400/400 [==============================] - 0s 868us/step - loss: 0.2759 - accuracy: 0.9150\n",
            "Epoch 67/100\n",
            "400/400 [==============================] - 0s 863us/step - loss: 0.2732 - accuracy: 0.9075\n",
            "Epoch 68/100\n",
            "400/400 [==============================] - 0s 916us/step - loss: 0.2700 - accuracy: 0.9100\n",
            "Epoch 69/100\n",
            "400/400 [==============================] - 0s 839us/step - loss: 0.2683 - accuracy: 0.9150\n",
            "Epoch 70/100\n",
            "400/400 [==============================] - 0s 873us/step - loss: 0.2656 - accuracy: 0.9175\n",
            "Epoch 71/100\n",
            "400/400 [==============================] - 0s 858us/step - loss: 0.2628 - accuracy: 0.9150\n",
            "Epoch 72/100\n",
            "400/400 [==============================] - 0s 848us/step - loss: 0.2611 - accuracy: 0.9125\n",
            "Epoch 73/100\n",
            "400/400 [==============================] - 0s 918us/step - loss: 0.2587 - accuracy: 0.9125\n",
            "Epoch 74/100\n",
            "400/400 [==============================] - 0s 869us/step - loss: 0.2566 - accuracy: 0.9125\n",
            "Epoch 75/100\n",
            "400/400 [==============================] - 0s 937us/step - loss: 0.2542 - accuracy: 0.9150\n",
            "Epoch 76/100\n",
            "400/400 [==============================] - 0s 957us/step - loss: 0.2525 - accuracy: 0.9150\n",
            "Epoch 77/100\n",
            "400/400 [==============================] - 0s 855us/step - loss: 0.2507 - accuracy: 0.9100\n",
            "Epoch 78/100\n",
            "400/400 [==============================] - 0s 832us/step - loss: 0.2483 - accuracy: 0.9150\n",
            "Epoch 79/100\n",
            "400/400 [==============================] - 0s 915us/step - loss: 0.2466 - accuracy: 0.9150\n",
            "Epoch 80/100\n",
            "400/400 [==============================] - 0s 822us/step - loss: 0.2447 - accuracy: 0.9200\n",
            "Epoch 81/100\n",
            "400/400 [==============================] - 0s 849us/step - loss: 0.2429 - accuracy: 0.9150\n",
            "Epoch 82/100\n",
            "400/400 [==============================] - 0s 896us/step - loss: 0.2418 - accuracy: 0.9125\n",
            "Epoch 83/100\n",
            "400/400 [==============================] - 0s 822us/step - loss: 0.2401 - accuracy: 0.9150\n",
            "Epoch 84/100\n",
            "400/400 [==============================] - 0s 861us/step - loss: 0.2382 - accuracy: 0.9125\n",
            "Epoch 85/100\n",
            "400/400 [==============================] - 0s 844us/step - loss: 0.2378 - accuracy: 0.9150\n",
            "Epoch 86/100\n",
            "400/400 [==============================] - 0s 849us/step - loss: 0.2360 - accuracy: 0.9175\n",
            "Epoch 87/100\n",
            "400/400 [==============================] - 0s 914us/step - loss: 0.2346 - accuracy: 0.9150\n",
            "Epoch 88/100\n",
            "400/400 [==============================] - 0s 830us/step - loss: 0.2334 - accuracy: 0.9150\n",
            "Epoch 89/100\n",
            "400/400 [==============================] - 0s 841us/step - loss: 0.2317 - accuracy: 0.9150\n",
            "Epoch 90/100\n",
            "400/400 [==============================] - 0s 877us/step - loss: 0.2310 - accuracy: 0.9050\n",
            "Epoch 91/100\n",
            "400/400 [==============================] - 0s 847us/step - loss: 0.2296 - accuracy: 0.9125\n",
            "Epoch 92/100\n",
            "400/400 [==============================] - 0s 849us/step - loss: 0.2285 - accuracy: 0.9175\n",
            "Epoch 93/100\n",
            "400/400 [==============================] - 0s 919us/step - loss: 0.2275 - accuracy: 0.9125\n",
            "Epoch 94/100\n",
            "400/400 [==============================] - 0s 876us/step - loss: 0.2265 - accuracy: 0.9150\n",
            "Epoch 95/100\n",
            "400/400 [==============================] - 0s 910us/step - loss: 0.2254 - accuracy: 0.9125\n",
            "Epoch 96/100\n",
            "400/400 [==============================] - 0s 949us/step - loss: 0.2244 - accuracy: 0.9150\n",
            "Epoch 97/100\n",
            "400/400 [==============================] - 0s 884us/step - loss: 0.2230 - accuracy: 0.9200\n",
            "Epoch 98/100\n",
            "400/400 [==============================] - 0s 851us/step - loss: 0.2225 - accuracy: 0.9125\n",
            "Epoch 99/100\n",
            "400/400 [==============================] - 0s 865us/step - loss: 0.2215 - accuracy: 0.9150\n",
            "Epoch 100/100\n",
            "400/400 [==============================] - 0s 836us/step - loss: 0.2210 - accuracy: 0.9175\n"
          ],
          "name": "stdout"
        },
        {
          "output_type": "execute_result",
          "data": {
            "text/plain": [
              "<tensorflow.python.keras.callbacks.History at 0x7f42a356b5c0>"
            ]
          },
          "metadata": {
            "tags": []
          },
          "execution_count": 44
        }
      ]
    },
    {
      "cell_type": "code",
      "metadata": {
        "colab": {
          "base_uri": "https://localhost:8080/"
        },
        "id": "cJJjMlmPfjcd",
        "outputId": "80962037-ae11-4d77-fd59-2d5fd2c9a171"
      },
      "source": [
        "err, acc = model.evaluate(x_test, y_test, batch_size=1)\n",
        "print('predict err=%s, acc=%s'%(err, acc))"
      ],
      "execution_count": null,
      "outputs": [
        {
          "output_type": "stream",
          "text": [
            "1600/1600 [==============================] - 1s 768us/step - loss: 0.2048 - accuracy: 0.9275\n",
            "predict err=0.2048022300004959, acc=0.9275000095367432\n"
          ],
          "name": "stdout"
        }
      ]
    },
    {
      "cell_type": "code",
      "metadata": {
        "id": "uayLLWK_fkun"
      },
      "source": [
        ""
      ],
      "execution_count": null,
      "outputs": []
    }
  ]
}